{
  "nbformat": 4,
  "nbformat_minor": 0,
  "metadata": {
    "colab": {
      "name": "renamefiles.ipynb",
      "provenance": [],
      "authorship_tag": "ABX9TyPqOsowmTiUUhrR/s0m5CSL",
      "include_colab_link": true
    },
    "kernelspec": {
      "name": "python3",
      "display_name": "Python 3"
    },
    "language_info": {
      "name": "python"
    }
  },
  "cells": [
    {
      "cell_type": "markdown",
      "metadata": {
        "id": "view-in-github",
        "colab_type": "text"
      },
      "source": [
        "<a href=\"https://colab.research.google.com/github/Kur1sutaru/balaio-de-scripts/blob/main/renamefiles.ipynb\" target=\"_parent\"><img src=\"https://colab.research.google.com/assets/colab-badge.svg\" alt=\"Open In Colab\"/></a>"
      ]
    },
    {
      "cell_type": "markdown",
      "source": [
        "Code retrieved from  https://www.geeksforgeeks.org/rename-multiple-files-using-python/\n",
        "\n",
        "\n",
        "\n",
        "\n",
        "The syntax for os.rename() is as follows:\n",
        "\n",
        "os.rename(file, destination)\n",
        "\n",
        "\n",
        "\n",
        "> Indented block\n",
        "\n",
        "\n",
        "Now the requirement is to rename them in ordered fashion like hostel1, hostel2, …and so on. Doing this manually would be a tedious task but this target can be achieved using the rename() and listdir() methods in the os module.\n",
        " \n",
        "\n",
        "The listdir method lists out all the content of a given directory.\n",
        "\n",
        "Syntax for listdir() : \n",
        "\n",
        "list = os.listdir(‘src’) : where src is the source folder to be listed out.\n",
        "\n",
        "The following code will do the job for us. It traverses through the lists of all the images in xyz folder, defines the destination (dst) and source (src) addresses, and renames using rename module. \n",
        "\n",
        "The accepted format for destination (dst) and source (src) addresses to be given as arguments in os.rename(src,dst) is “folder_name/file_name”.\n",
        "  \n",
        "Below is the implementation : "
      ],
      "metadata": {
        "id": "wEbZJjPNoheR"
      }
    },
    {
      "cell_type": "code",
      "execution_count": null,
      "metadata": {
        "id": "buAD140coe84"
      },
      "outputs": [],
      "source": [
        "# Python3 code to rename multiple\n",
        "# files in a directory or folder\n",
        " \n",
        "# importing os module\n",
        "import os\n",
        " \n",
        "# Function to rename multiple files\n",
        "def main():\n",
        "   \n",
        "    folder = \"xyz\"\n",
        "    for count, filename in enumerate(os.listdir(folder)):\n",
        "        dst = f\"Hostel {str(count)}.jpg\"\n",
        "        src =f\"{folder}/{filename}\"  # foldername/filename, if .py file is outside folder\n",
        "        dst =f\"{folder}/{dst}\"\n",
        "         \n",
        "        # rename() function will\n",
        "        # rename all the files\n",
        "        os.rename(src, dst)\n",
        " \n",
        "# Driver Code\n",
        "if __name__ == '__main__':\n",
        "     \n",
        "    # Calling main() function\n",
        "    main()"
      ]
    }
  ]
}